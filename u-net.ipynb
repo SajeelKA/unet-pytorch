{
 "cells": [
  {
   "cell_type": "code",
   "execution_count": 1,
   "metadata": {},
   "outputs": [],
   "source": [
    "import os\n",
    "import torch\n",
    "import pandas as pd\n",
    "import torch\n",
    "import torch.nn as nn\n",
    "import numpy as np\n",
    "import matplotlib.pyplot as plt\n",
    "import torch.nn.functional as F\n",
    "import torchvision.transforms as transform\n",
    "from __future__ import print_function, division\n",
    "from skimage import io, transform\n",
    "from torch.utils.data import Dataset, DataLoader\n",
    "from torchvision import transforms, utils\n",
    "\n",
    "# Ignore warnings\n",
    "import warnings\n",
    "warnings.filterwarnings(\"ignore\")"
   ]
  },
  {
   "cell_type": "code",
   "execution_count": 2,
   "metadata": {},
   "outputs": [],
   "source": [
    "class unet(nn.Module):\n",
    "    def __init__(self):\n",
    "        super(unet, self).__init__()\n",
    "        self.conv1 = nn.Conv2d(1,64,3) # (in_channels, out_channels, kernel_size)\n",
    "        self.conv2 = nn.Conv2d(64,64,3) # (in_channels, out_channels, kernel_size)\n",
    "        self.conv3 = nn.Conv2d(64,128,3) # (in_channels, out_channels, kernel_size)\n",
    "        self.conv4 = nn.Conv2d(128,128,3) # (in_channels, out_channels, kernel_size)\n",
    "        self.conv5 = nn.Conv2d(128,256,3) # (in_channels, out_channels, kernel_size)\n",
    "        self.conv6 = nn.Conv2d(256,256,3) # (in_channels, out_channels, kernel_size)\n",
    "        self.conv7 = nn.Conv2d(256,512,3) # (in_channels, out_channels, kernel_size)\n",
    "        self.conv8 = nn.Conv2d(512,512,3) # (in_channels, out_channels, kernel_size)\n",
    "        self.conv9 = nn.Conv2d(512,1024,3) # (in_channels, out_channels, kernel_size)\n",
    "        self.conv10 = nn.Conv2d(1024,1024,3) # (in_channels, out_channels, kernel_size)\n",
    "        self.conv11 = nn.Conv2d(1024,512,3) # (in_channels, out_channels, kernel_size)\n",
    "        self.conv12 = nn.Conv2d(512,512,3) # (in_channels, out_channels, kernel_size)\n",
    "        self.conv13 = nn.Conv2d(512,256,3) # (in_channels, out_channels, kernel_size)\n",
    "        self.conv14 = nn.Conv2d(256,256,3) # (in_channels, out_channels, kernel_size)\n",
    "        self.conv15 = nn.Conv2d(256,128,3) # (in_channels, out_channels, kernel_size)\n",
    "        self.conv16 = nn.Conv2d(128,128,3) # (in_channels, out_channels, kernel_size)\n",
    "        self.conv17 = nn.Conv2d(128,64,3) # (in_channels, out_channels, kernel_size)\n",
    "        self.conv18 = nn.Conv2d(64,64,3) # (in_channels, out_channels, kernel_size)\n",
    "        self.conv19 = nn.Conv2d(64,2,1) # (in_channels, out_channels, kernel_size)        \n",
    "        self.maxpool = nn.MaxPool2d(2) # (kernel_size, stride, padding)   \n",
    "        self.convtrans1 = nn.ConvTranspose2d(1024,512,2) # (in_channels, out_channels, kernel_size)\n",
    "        self.convtrans2 = nn.ConvTranspose2d(512,256,2) # (in_channels, out_channels, kernel_size)\n",
    "        self.convtrans3 = nn.ConvTranspose2d(256,128,2) # (in_channels, out_channels, kernel_size)\n",
    "        self.convtrans4 = nn.ConvTranspose2d(128,64,2) # (in_channels, out_channels, kernel_size)\n",
    "        \n",
    "    def forward(self,x):\n",
    "        \n",
    "        x = F.relu(self.conv1(x))\n",
    "        out1 = F.relu(self.conv2(x))\n",
    "        out1_transform = nn.Upsample(size=(392, 392), mode='bilinear')(out1)\n",
    "        \n",
    "        x = self.maxpool(out1)\n",
    "        x = F.relu(self.conv3(x))\n",
    "        out2 = F.relu(self.conv4(x))\n",
    "        out2_transform = nn.Upsample(size=(200, 200), mode='bilinear')(out2)\n",
    "        \n",
    "        x = self.maxpool(out2)\n",
    "        x = F.relu(self.conv5(x))\n",
    "        out3 = F.relu(self.conv6(x))\n",
    "        out3_transform = nn.Upsample(size=(104, 104), mode='bilinear')(out3)\n",
    "        \n",
    "        x = self.maxpool(out3)\n",
    "        x = F.relu(self.conv7(x))\n",
    "        out4 = F.relu(self.conv8(x))\n",
    "        out4_transform = nn.Upsample(size=(56, 56), mode='bilinear')(out4)\n",
    "        \n",
    "        x = self.maxpool(out4)\n",
    "        x = F.relu(self.conv9(x))\n",
    "        x = F.relu(self.conv10(x))\n",
    "        out5 = self.convtrans1(x)\n",
    "        out5_transform = nn.Upsample(size=(56, 56), mode='bilinear')(out5)\n",
    "        \n",
    "        x = F.relu(self.conv11(torch.cat((out4_transform,out5_transform), 1)))\n",
    "        x = F.relu(self.conv12(x))\n",
    "        out6 = self.convtrans2(x)\n",
    "        out6_transform = nn.Upsample(size=(104, 104), mode='bilinear')(out6)\n",
    "        \n",
    "        x = F.relu(self.conv13(torch.cat((out3_transform,out6_transform), 1)))\n",
    "        x = F.relu(self.conv14(x))\n",
    "        out7 = self.convtrans3(x)\n",
    "        out7_transform = nn.Upsample(size=(200, 200), mode='bilinear')(out7)\n",
    "        \n",
    "        x = F.relu(self.conv15(torch.cat((out2_transform,out7_transform), 1)))\n",
    "        x = F.relu(self.conv16(x))\n",
    "        out8 = self.convtrans4(x)\n",
    "        out8_transform = nn.Upsample(size=(392, 392), mode='bilinear')(out8)\n",
    "        \n",
    "        x = F.relu(self.conv17(torch.cat((out1_transform,out8_transform), 1)))\n",
    "        x = F.relu(self.conv18(x))\n",
    "        x = F.relu(self.conv19(x))\n",
    "        \n",
    "        return x\n",
    "        "
   ]
  },
  {
   "cell_type": "code",
   "execution_count": 3,
   "metadata": {},
   "outputs": [],
   "source": [
    "# unet_inst = unet().float()"
   ]
  },
  {
   "cell_type": "code",
   "execution_count": 4,
   "metadata": {},
   "outputs": [],
   "source": [
    "# img = torch.from_numpy(np.zeros((574,574))).float().unsqueeze_(0).unsqueeze_(0)\n",
    "# print(img.shape)"
   ]
  },
  {
   "cell_type": "code",
   "execution_count": 5,
   "metadata": {},
   "outputs": [],
   "source": [
    "# unet_inst(img)"
   ]
  },
  {
   "cell_type": "code",
   "execution_count": 6,
   "metadata": {},
   "outputs": [],
   "source": [
    "# Read original training data file\n",
    "csv_file = './train_ship_segmentations.csv'\n",
    "X = np.array((pd.read_csv(csv_file, header=0)).as_matrix())"
   ]
  },
  {
   "cell_type": "code",
   "execution_count": 7,
   "metadata": {},
   "outputs": [],
   "source": [
    "# Create and split data here\n",
    "from sklearn.model_selection import train_test_split\n",
    "train, valid = train_test_split(X, test_size=0.20, random_state=42)\n",
    "X_train, y_train = train[:,0], train[:,1]\n",
    "X_valid, y_valid = valid[:,0], valid[:,1]"
   ]
  },
  {
   "cell_type": "code",
   "execution_count": 8,
   "metadata": {},
   "outputs": [
    {
     "name": "stdout",
     "output_type": "stream",
     "text": [
      "(104824,)\n",
      "(26206,)\n"
     ]
    }
   ],
   "source": [
    "print(X_train.shape)\n",
    "print(X_valid.shape)"
   ]
  },
  {
   "cell_type": "code",
   "execution_count": 25,
   "metadata": {},
   "outputs": [
    {
     "name": "stdout",
     "output_type": "stream",
     "text": [
      "(104824,)\n"
     ]
    }
   ],
   "source": [
    "# Write TRAINING data to file\n",
    "data = []\n",
    "path = './train/'\n",
    "for i,(X,y) in enumerate(zip(X_train, y_train),0):\n",
    "    data.append({'X': path+X, 'y': y})\n",
    "\n",
    "data = np.array(data)\n",
    "print(data.shape)\n",
    "np.savetxt(\"./data_files/train.csv\", data, fmt='%s', delimiter=\",\")"
   ]
  },
  {
   "cell_type": "code",
   "execution_count": 26,
   "metadata": {},
   "outputs": [
    {
     "name": "stdout",
     "output_type": "stream",
     "text": [
      "(26206,)\n"
     ]
    }
   ],
   "source": [
    "# Write VALIDATION data to file\n",
    "data = []\n",
    "path = './train/'\n",
    "for i,(X,y) in enumerate(zip(X_valid, y_valid),0):\n",
    "    data.append({'X': path+X, 'y': y})\n",
    "\n",
    "data = np.array(data)\n",
    "print(data.shape)\n",
    "np.savetxt(\"./data_files/valid.csv\", data, fmt='%s', delimiter=\",\")"
   ]
  },
  {
   "cell_type": "code",
   "execution_count": 29,
   "metadata": {},
   "outputs": [],
   "source": [
    "class ShipsDataset():\n",
    "    \"\"\"Face Landmarks dataset.\"\"\"\n",
    "    data = []\n",
    "    def __init__(self, FLAG):\n",
    "        \"\"\"\n",
    "        Args:\n",
    "            csv_file (string): Path to the csv file with annotations.\n",
    "        \"\"\"\n",
    "        if (FLAG=='train'):\n",
    "            print('train_data')\n",
    "            csv_file = './data_files/train.csv'\n",
    "        elif (FLAG=='valid'):\n",
    "            print('valid_data')\n",
    "            csv_file = './data_files/valid.csv'\n",
    "        elif (FLAG=='test'):\n",
    "            print('test_data')\n",
    "            csv_file = './data_files/test.csv'\n",
    "            \n",
    "        data = pd.read_csv(csv_file)\n",
    "        \n",
    "    def __len__(self):\n",
    "        return len(self.data)\n",
    "\n",
    "    def __getitem__(self, idx):\n",
    "        img_name = data[idx]['X']\n",
    "        image = io.imread(img_name)\n",
    "        mask_coords = data[idx]['y']\n",
    "        \n",
    "        print('image dims: {}'.format(image.shape))\n",
    "        \n",
    "        # Construct mask here\n",
    "        \n",
    "        \n",
    "        return image, mask"
   ]
  },
  {
   "cell_type": "code",
   "execution_count": 34,
   "metadata": {},
   "outputs": [
    {
     "name": "stdout",
     "output_type": "stream",
     "text": [
      "train_data\n",
      "valid_data\n"
     ]
    }
   ],
   "source": [
    "dataset_train = ShipsDataset('train')\n",
    "dataloader_train = DataLoader(dataset_train, batch_size=2, shuffle=True, num_workers=0)\n",
    "dataset_valid = ShipsDataset('valid')\n",
    "dataloader_valid = DataLoader(dataset_valid, batch_size=2, shuffle=True, num_workers=0)"
   ]
  },
  {
   "cell_type": "code",
   "execution_count": 36,
   "metadata": {},
   "outputs": [],
   "source": [
    "# Run the training\n",
    "for i, (data_train, data_valid) in enumerate(zip(dataloader_train, dataloader_valid),0):\n",
    "    print(i)\n",
    "    print(data_train)"
   ]
  },
  {
   "cell_type": "code",
   "execution_count": null,
   "metadata": {},
   "outputs": [],
   "source": []
  }
 ],
 "metadata": {
  "kernelspec": {
   "display_name": "Python 3",
   "language": "python",
   "name": "python3"
  },
  "language_info": {
   "codemirror_mode": {
    "name": "ipython",
    "version": 3
   },
   "file_extension": ".py",
   "mimetype": "text/x-python",
   "name": "python",
   "nbconvert_exporter": "python",
   "pygments_lexer": "ipython3",
   "version": "3.6.5"
  }
 },
 "nbformat": 4,
 "nbformat_minor": 2
}
